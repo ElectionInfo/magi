{
 "cells": [
  {
   "cell_type": "code",
   "execution_count": 1,
   "id": "aa814505",
   "metadata": {},
   "outputs": [],
   "source": [
    "import pandas as pd\n",
    "import numpy as np\n",
    "import matplotlib.pyplot as plt\n",
    "import warnings\n",
    "import seaborn as sns\n",
    "import missingno as msno\n",
    "import platform\n",
    "from matplotlib import font_manager, rc\n",
    "import matplotlib as mpl\n",
    "from datetime import datetime\n",
    "import time\n",
    "from tqdm import tqdm\n",
    "import os"
   ]
  },
  {
   "cell_type": "code",
   "execution_count": 2,
   "id": "1a0506d4",
   "metadata": {},
   "outputs": [
    {
     "data": {
      "image/png": "[encoded data removed]",
      "text/plain": [
       "<Figure size 576x72 with 1 Axes>"
      ]
     },
     "metadata": {
      "needs_background": "light"
     },
     "output_type": "display_data"
    }
   ],
   "source": [
    "if platform.system() == 'Windows':\n",
    "    font_name = font_manager.FontProperties(fname='c:/Windows/Fonts/malgun.ttf').get_name()\n",
    "    rc('font', family=font_name)\n",
    "else:\n",
    "    rc('font', family='AppleGothic')\n",
    "\n",
    "mpl.rcParams['axes.unicode_minus'] = False\n",
    "\n",
    "warnings.filterwarnings('ignore')\n",
    "\n",
    "tqdm.pandas()\n",
    "\n",
    "custom_palette = sns.color_palette(\"Set2\")\n",
    "sns.palplot(custom_palette)"
   ]
  },
  {
   "cell_type": "code",
   "execution_count": 3,
   "id": "cbff1918",
   "metadata": {},
   "outputs": [],
   "source": [
    "path = './data/'\n",
    "etf_info = pd.read_csv(path+'etf_info.csv', encoding='euc_kr')\n",
    "etf_data = pd.read_csv(path+'etf_data.csv', encoding='euc_kr')\n",
    "stock_data = pd.read_csv(path+'stock_data.csv', encoding='euc_kr')\n",
    "pdf_monthly = pd.read_csv(path+'pdf_data_monthly.csv', encoding='euc_kr')\n",
    "macro_data = pd.read_csv(path+'macro_data.csv', encoding='euc_kr')\n",
    "stock_sector = pd.read_csv(path+'stock_sector_data.csv', encoding='euc_kr')"
   ]
  },
  {
   "cell_type": "markdown",
   "id": "24a4aec1",
   "metadata": {},
   "source": [
    "# Data Load"
   ]
  },
  {
   "cell_type": "code",
   "execution_count": 4,
   "id": "8a372f63",
   "metadata": {
    "scrolled": true
   },
   "outputs": [
    {
     "data": {
      "text/html": [
       "<div>\n",
       "<style scoped>\n",
       "    .dataframe tbody tr th:only-of-type {\n",
       "        vertical-align: middle;\n",
       "    }\n",
       "\n",
       "    .dataframe tbody tr th {\n",
       "        vertical-align: top;\n",
       "    }\n",
       "\n",
       "    .dataframe thead th {\n",
       "        text-align: right;\n",
       "    }\n",
       "</style>\n",
       "<table border=\"1\" class=\"dataframe\">\n",
       "  <thead>\n",
       "    <tr style=\"text-align: right;\">\n",
       "      <th></th>\n",
       "      <th>코드</th>\n",
       "      <th>펀드명</th>\n",
       "      <th>분류</th>\n",
       "      <th>벤치마크명</th>\n",
       "      <th>설정일</th>\n",
       "    </tr>\n",
       "  </thead>\n",
       "  <tbody>\n",
       "    <tr>\n",
       "      <th>0</th>\n",
       "      <td>A377990</td>\n",
       "      <td>TIGER Fn신재생에너지</td>\n",
       "      <td>4.국내-전략</td>\n",
       "      <td>FnGuide 신재생에너지 지수</td>\n",
       "      <td>2021-03-04</td>\n",
       "    </tr>\n",
       "    <tr>\n",
       "      <th>1</th>\n",
       "      <td>A376410</td>\n",
       "      <td>TIGER 탄소효율그린뉴딜</td>\n",
       "      <td>03.국내-전략</td>\n",
       "      <td>KRX/S&amp;P 탄소효율그린뉴딜지수</td>\n",
       "      <td>2021-02-04</td>\n",
       "    </tr>\n",
       "    <tr>\n",
       "      <th>2</th>\n",
       "      <td>A364960</td>\n",
       "      <td>TIGER KRX BBIG K-뉴딜</td>\n",
       "      <td>03.국내-전략</td>\n",
       "      <td>KRX BBIG K-뉴딜</td>\n",
       "      <td>2020-10-06</td>\n",
       "    </tr>\n",
       "    <tr>\n",
       "      <th>3</th>\n",
       "      <td>A364980</td>\n",
       "      <td>TIGER KRX2차전지K-뉴딜</td>\n",
       "      <td>03.국내-전략</td>\n",
       "      <td>KRX 2차전지 K-뉴딜 지수</td>\n",
       "      <td>2020-10-06</td>\n",
       "    </tr>\n",
       "    <tr>\n",
       "      <th>4</th>\n",
       "      <td>A364970</td>\n",
       "      <td>TIGER KRX바이오K-뉴딜</td>\n",
       "      <td>03.국내-전략</td>\n",
       "      <td>KRX 바이오 K-뉴딜 지수</td>\n",
       "      <td>2020-10-06</td>\n",
       "    </tr>\n",
       "  </tbody>\n",
       "</table>\n",
       "</div>"
      ],
      "text/plain": [
       "        코드                  펀드명        분류               벤치마크명         설정일\n",
       "0  A377990       TIGER Fn신재생에너지   4.국내-전략   FnGuide 신재생에너지 지수  2021-03-04\n",
       "1  A376410       TIGER 탄소효율그린뉴딜  03.국내-전략  KRX/S&P 탄소효율그린뉴딜지수  2021-02-04\n",
       "2  A364960  TIGER KRX BBIG K-뉴딜  03.국내-전략       KRX BBIG K-뉴딜  2020-10-06\n",
       "3  A364980    TIGER KRX2차전지K-뉴딜  03.국내-전략    KRX 2차전지 K-뉴딜 지수  2020-10-06\n",
       "4  A364970     TIGER KRX바이오K-뉴딜  03.국내-전략     KRX 바이오 K-뉴딜 지수  2020-10-06"
      ]
     },
     "execution_count": 4,
     "metadata": {},
     "output_type": "execute_result"
    }
   ],
   "source": [
    "etf_info.head()"
   ]
  },
  {
   "cell_type": "code",
   "execution_count": 5,
   "id": "e81583f8",
   "metadata": {},
   "outputs": [
    {
     "data": {
      "text/html": [
       "<div>\n",
       "<style scoped>\n",
       "    .dataframe tbody tr th:only-of-type {\n",
       "        vertical-align: middle;\n",
       "    }\n",
       "\n",
       "    .dataframe tbody tr th {\n",
       "        vertical-align: top;\n",
       "    }\n",
       "\n",
       "    .dataframe thead th {\n",
       "        text-align: right;\n",
       "    }\n",
       "</style>\n",
       "<table border=\"1\" class=\"dataframe\">\n",
       "  <thead>\n",
       "    <tr style=\"text-align: right;\">\n",
       "      <th></th>\n",
       "      <th>tdate</th>\n",
       "      <th>etf_code</th>\n",
       "      <th>data_name</th>\n",
       "      <th>value</th>\n",
       "    </tr>\n",
       "  </thead>\n",
       "  <tbody>\n",
       "    <tr>\n",
       "      <th>0</th>\n",
       "      <td>2012-01-02</td>\n",
       "      <td>A091220</td>\n",
       "      <td>거래량</td>\n",
       "      <td>5114</td>\n",
       "    </tr>\n",
       "    <tr>\n",
       "      <th>1</th>\n",
       "      <td>2012-01-02</td>\n",
       "      <td>A091220</td>\n",
       "      <td>고가</td>\n",
       "      <td>7240</td>\n",
       "    </tr>\n",
       "    <tr>\n",
       "      <th>2</th>\n",
       "      <td>2012-01-02</td>\n",
       "      <td>A091220</td>\n",
       "      <td>시가</td>\n",
       "      <td>7240</td>\n",
       "    </tr>\n",
       "    <tr>\n",
       "      <th>3</th>\n",
       "      <td>2012-01-02</td>\n",
       "      <td>A091220</td>\n",
       "      <td>저가</td>\n",
       "      <td>7055</td>\n",
       "    </tr>\n",
       "    <tr>\n",
       "      <th>4</th>\n",
       "      <td>2012-01-02</td>\n",
       "      <td>A091220</td>\n",
       "      <td>종가</td>\n",
       "      <td>7110</td>\n",
       "    </tr>\n",
       "  </tbody>\n",
       "</table>\n",
       "</div>"
      ],
      "text/plain": [
       "        tdate etf_code data_name  value\n",
       "0  2012-01-02  A091220       거래량   5114\n",
       "1  2012-01-02  A091220        고가   7240\n",
       "2  2012-01-02  A091220        시가   7240\n",
       "3  2012-01-02  A091220        저가   7055\n",
       "4  2012-01-02  A091220        종가   7110"
      ]
     },
     "execution_count": 5,
     "metadata": {},
     "output_type": "execute_result"
    }
   ],
   "source": [
    "etf_data.head()"
   ]
  },
  {
   "cell_type": "code",
   "execution_count": 6,
   "id": "37651639",
   "metadata": {},
   "outputs": [
    {
     "data": {
      "text/html": [
       "<div>\n",
       "<style scoped>\n",
       "    .dataframe tbody tr th:only-of-type {\n",
       "        vertical-align: middle;\n",
       "    }\n",
       "\n",
       "    .dataframe tbody tr th {\n",
       "        vertical-align: top;\n",
       "    }\n",
       "\n",
       "    .dataframe thead th {\n",
       "        text-align: right;\n",
       "    }\n",
       "</style>\n",
       "<table border=\"1\" class=\"dataframe\">\n",
       "  <thead>\n",
       "    <tr style=\"text-align: right;\">\n",
       "      <th></th>\n",
       "      <th>tdate</th>\n",
       "      <th>stock_code</th>\n",
       "      <th>data_name</th>\n",
       "      <th>value</th>\n",
       "    </tr>\n",
       "  </thead>\n",
       "  <tbody>\n",
       "    <tr>\n",
       "      <th>0</th>\n",
       "      <td>2006-01-02</td>\n",
       "      <td>A006260</td>\n",
       "      <td>거래량</td>\n",
       "      <td>99233</td>\n",
       "    </tr>\n",
       "    <tr>\n",
       "      <th>1</th>\n",
       "      <td>2006-01-02</td>\n",
       "      <td>A009830</td>\n",
       "      <td>거래량</td>\n",
       "      <td>1143367</td>\n",
       "    </tr>\n",
       "    <tr>\n",
       "      <th>2</th>\n",
       "      <td>2006-01-02</td>\n",
       "      <td>A010060</td>\n",
       "      <td>거래량</td>\n",
       "      <td>77502</td>\n",
       "    </tr>\n",
       "    <tr>\n",
       "      <th>3</th>\n",
       "      <td>2006-01-02</td>\n",
       "      <td>A011930</td>\n",
       "      <td>거래량</td>\n",
       "      <td>727141</td>\n",
       "    </tr>\n",
       "    <tr>\n",
       "      <th>4</th>\n",
       "      <td>2006-01-02</td>\n",
       "      <td>A018000</td>\n",
       "      <td>거래량</td>\n",
       "      <td>957108</td>\n",
       "    </tr>\n",
       "  </tbody>\n",
       "</table>\n",
       "</div>"
      ],
      "text/plain": [
       "        tdate stock_code data_name    value\n",
       "0  2006-01-02    A006260       거래량    99233\n",
       "1  2006-01-02    A009830       거래량  1143367\n",
       "2  2006-01-02    A010060       거래량    77502\n",
       "3  2006-01-02    A011930       거래량   727141\n",
       "4  2006-01-02    A018000       거래량   957108"
      ]
     },
     "execution_count": 6,
     "metadata": {},
     "output_type": "execute_result"
    }
   ],
   "source": [
    "stock_data.head()"
   ]
  },
  {
   "cell_type": "code",
   "execution_count": 7,
   "id": "f9ca720a",
   "metadata": {},
   "outputs": [
    {
     "data": {
      "text/html": [
       "<div>\n",
       "<style scoped>\n",
       "    .dataframe tbody tr th:only-of-type {\n",
       "        vertical-align: middle;\n",
       "    }\n",
       "\n",
       "    .dataframe tbody tr th {\n",
       "        vertical-align: top;\n",
       "    }\n",
       "\n",
       "    .dataframe thead th {\n",
       "        text-align: right;\n",
       "    }\n",
       "</style>\n",
       "<table border=\"1\" class=\"dataframe\">\n",
       "  <thead>\n",
       "    <tr style=\"text-align: right;\">\n",
       "      <th></th>\n",
       "      <th>tdate</th>\n",
       "      <th>etf_code</th>\n",
       "      <th>stock_code</th>\n",
       "      <th>stock_name</th>\n",
       "      <th>ratio</th>\n",
       "    </tr>\n",
       "  </thead>\n",
       "  <tbody>\n",
       "    <tr>\n",
       "      <th>0</th>\n",
       "      <td>2021-03-31</td>\n",
       "      <td>A377990</td>\n",
       "      <td>A006260</td>\n",
       "      <td>LS</td>\n",
       "      <td>0.091023</td>\n",
       "    </tr>\n",
       "    <tr>\n",
       "      <th>1</th>\n",
       "      <td>2021-03-31</td>\n",
       "      <td>A377990</td>\n",
       "      <td>A009830</td>\n",
       "      <td>한화솔루션</td>\n",
       "      <td>0.116892</td>\n",
       "    </tr>\n",
       "    <tr>\n",
       "      <th>2</th>\n",
       "      <td>2021-03-31</td>\n",
       "      <td>A377990</td>\n",
       "      <td>A010060</td>\n",
       "      <td>OCI</td>\n",
       "      <td>0.160506</td>\n",
       "    </tr>\n",
       "    <tr>\n",
       "      <th>3</th>\n",
       "      <td>2021-03-31</td>\n",
       "      <td>A377990</td>\n",
       "      <td>A011930</td>\n",
       "      <td>신성이엔지</td>\n",
       "      <td>0.045884</td>\n",
       "    </tr>\n",
       "    <tr>\n",
       "      <th>4</th>\n",
       "      <td>2021-03-31</td>\n",
       "      <td>A377990</td>\n",
       "      <td>A018000</td>\n",
       "      <td>유니슨</td>\n",
       "      <td>0.044053</td>\n",
       "    </tr>\n",
       "  </tbody>\n",
       "</table>\n",
       "</div>"
      ],
      "text/plain": [
       "        tdate etf_code stock_code stock_name     ratio\n",
       "0  2021-03-31  A377990    A006260         LS  0.091023\n",
       "1  2021-03-31  A377990    A009830      한화솔루션  0.116892\n",
       "2  2021-03-31  A377990    A010060        OCI  0.160506\n",
       "3  2021-03-31  A377990    A011930      신성이엔지  0.045884\n",
       "4  2021-03-31  A377990    A018000        유니슨  0.044053"
      ]
     },
     "execution_count": 7,
     "metadata": {},
     "output_type": "execute_result"
    }
   ],
   "source": [
    "pdf_monthly.head()"
   ]
  },
  {
   "cell_type": "code",
   "execution_count": 8,
   "id": "a52c1466",
   "metadata": {},
   "outputs": [
    {
     "data": {
      "text/html": [
       "<div>\n",
       "<style scoped>\n",
       "    .dataframe tbody tr th:only-of-type {\n",
       "        vertical-align: middle;\n",
       "    }\n",
       "\n",
       "    .dataframe tbody tr th {\n",
       "        vertical-align: top;\n",
       "    }\n",
       "\n",
       "    .dataframe thead th {\n",
       "        text-align: right;\n",
       "    }\n",
       "</style>\n",
       "<table border=\"1\" class=\"dataframe\">\n",
       "  <thead>\n",
       "    <tr style=\"text-align: right;\">\n",
       "      <th></th>\n",
       "      <th>Item Name</th>\n",
       "      <th>국내총생산(명목, 원화표시)(십억원)</th>\n",
       "      <th>국내총생산(명목, 달러표시)(억달러)</th>\n",
       "      <th>국민총소득(명목, 원화표시)(십억원)</th>\n",
       "      <th>국민총소득(명목, 달러표시)(억달러)</th>\n",
       "      <th>국내총소득(%)</th>\n",
       "      <th>국민총소득(%)</th>\n",
       "      <th>건설투자(%)</th>\n",
       "      <th>설비투자(%)</th>\n",
       "      <th>GDP 디플레이터(2015=100)</th>\n",
       "      <th>...</th>\n",
       "      <th>한국(2015=100)</th>\n",
       "      <th>미국(2015=100)</th>\n",
       "      <th>일본(2015=100)</th>\n",
       "      <th>영국(2015=100)</th>\n",
       "      <th>독일(2015=100)</th>\n",
       "      <th>한국(%)</th>\n",
       "      <th>미국(%)</th>\n",
       "      <th>일본(%).1</th>\n",
       "      <th>중국(%).1</th>\n",
       "      <th>영국(%).1</th>\n",
       "    </tr>\n",
       "  </thead>\n",
       "  <tbody>\n",
       "    <tr>\n",
       "      <th>0</th>\n",
       "      <td>Frequency</td>\n",
       "      <td>Y</td>\n",
       "      <td>Y</td>\n",
       "      <td>Y</td>\n",
       "      <td>Y</td>\n",
       "      <td>Y</td>\n",
       "      <td>Y</td>\n",
       "      <td>Y</td>\n",
       "      <td>Y</td>\n",
       "      <td>Y</td>\n",
       "      <td>...</td>\n",
       "      <td>M</td>\n",
       "      <td>M</td>\n",
       "      <td>M</td>\n",
       "      <td>M</td>\n",
       "      <td>M</td>\n",
       "      <td>Q</td>\n",
       "      <td>Q</td>\n",
       "      <td>Q</td>\n",
       "      <td>Q</td>\n",
       "      <td>Q</td>\n",
       "    </tr>\n",
       "    <tr>\n",
       "      <th>1</th>\n",
       "      <td>2000-01-12</td>\n",
       "      <td>591453</td>\n",
       "      <td>4972.4</td>\n",
       "      <td>584929.4</td>\n",
       "      <td>4917.5</td>\n",
       "      <td>10.5</td>\n",
       "      <td>10.7</td>\n",
       "      <td>-3.3</td>\n",
       "      <td>35.5</td>\n",
       "      <td>71.39</td>\n",
       "      <td>...</td>\n",
       "      <td>46.7</td>\n",
       "      <td>90.4</td>\n",
       "      <td>103.1</td>\n",
       "      <td>109.9</td>\n",
       "      <td>77.1</td>\n",
       "      <td>2.9</td>\n",
       "      <td>1.7</td>\n",
       "      <td>0</td>\n",
       "      <td>NaN</td>\n",
       "      <td>1.5</td>\n",
       "    </tr>\n",
       "    <tr>\n",
       "      <th>2</th>\n",
       "      <td>2000-01-13</td>\n",
       "      <td>591453</td>\n",
       "      <td>4972.4</td>\n",
       "      <td>584929.4</td>\n",
       "      <td>4917.5</td>\n",
       "      <td>10.5</td>\n",
       "      <td>10.7</td>\n",
       "      <td>-3.3</td>\n",
       "      <td>35.5</td>\n",
       "      <td>71.39</td>\n",
       "      <td>...</td>\n",
       "      <td>46.7</td>\n",
       "      <td>90.4</td>\n",
       "      <td>103.1</td>\n",
       "      <td>109.9</td>\n",
       "      <td>77.1</td>\n",
       "      <td>2.9</td>\n",
       "      <td>1.7</td>\n",
       "      <td>0</td>\n",
       "      <td>NaN</td>\n",
       "      <td>1.5</td>\n",
       "    </tr>\n",
       "    <tr>\n",
       "      <th>3</th>\n",
       "      <td>2000-01-14</td>\n",
       "      <td>591453</td>\n",
       "      <td>4972.4</td>\n",
       "      <td>584929.4</td>\n",
       "      <td>4917.5</td>\n",
       "      <td>10.5</td>\n",
       "      <td>10.7</td>\n",
       "      <td>-3.3</td>\n",
       "      <td>35.5</td>\n",
       "      <td>71.39</td>\n",
       "      <td>...</td>\n",
       "      <td>46.7</td>\n",
       "      <td>90.4</td>\n",
       "      <td>103.1</td>\n",
       "      <td>109.9</td>\n",
       "      <td>77.1</td>\n",
       "      <td>2.9</td>\n",
       "      <td>1.7</td>\n",
       "      <td>0</td>\n",
       "      <td>NaN</td>\n",
       "      <td>1.5</td>\n",
       "    </tr>\n",
       "    <tr>\n",
       "      <th>4</th>\n",
       "      <td>2000-01-15</td>\n",
       "      <td>591453</td>\n",
       "      <td>4972.4</td>\n",
       "      <td>584929.4</td>\n",
       "      <td>4917.5</td>\n",
       "      <td>10.5</td>\n",
       "      <td>10.7</td>\n",
       "      <td>-3.3</td>\n",
       "      <td>35.5</td>\n",
       "      <td>71.39</td>\n",
       "      <td>...</td>\n",
       "      <td>46.7</td>\n",
       "      <td>90.4</td>\n",
       "      <td>103.1</td>\n",
       "      <td>109.9</td>\n",
       "      <td>77.1</td>\n",
       "      <td>2.9</td>\n",
       "      <td>1.7</td>\n",
       "      <td>0</td>\n",
       "      <td>NaN</td>\n",
       "      <td>1.5</td>\n",
       "    </tr>\n",
       "  </tbody>\n",
       "</table>\n",
       "<p>5 rows × 158 columns</p>\n",
       "</div>"
      ],
      "text/plain": [
       "    Item Name 국내총생산(명목, 원화표시)(십억원) 국내총생산(명목, 달러표시)(억달러) 국민총소득(명목, 원화표시)(십억원)  \\\n",
       "0   Frequency                    Y                    Y                    Y   \n",
       "1  2000-01-12               591453               4972.4             584929.4   \n",
       "2  2000-01-13               591453               4972.4             584929.4   \n",
       "3  2000-01-14               591453               4972.4             584929.4   \n",
       "4  2000-01-15               591453               4972.4             584929.4   \n",
       "\n",
       "  국민총소득(명목, 달러표시)(억달러) 국내총소득(%) 국민총소득(%) 건설투자(%) 설비투자(%) GDP 디플레이터(2015=100)  \\\n",
       "0                    Y        Y        Y       Y       Y                   Y   \n",
       "1               4917.5     10.5     10.7    -3.3    35.5               71.39   \n",
       "2               4917.5     10.5     10.7    -3.3    35.5               71.39   \n",
       "3               4917.5     10.5     10.7    -3.3    35.5               71.39   \n",
       "4               4917.5     10.5     10.7    -3.3    35.5               71.39   \n",
       "\n",
       "   ... 한국(2015=100) 미국(2015=100) 일본(2015=100) 영국(2015=100) 독일(2015=100) 한국(%)  \\\n",
       "0  ...            M            M            M            M            M     Q   \n",
       "1  ...         46.7         90.4        103.1        109.9         77.1   2.9   \n",
       "2  ...         46.7         90.4        103.1        109.9         77.1   2.9   \n",
       "3  ...         46.7         90.4        103.1        109.9         77.1   2.9   \n",
       "4  ...         46.7         90.4        103.1        109.9         77.1   2.9   \n",
       "\n",
       "  미국(%) 일본(%).1 중국(%).1 영국(%).1  \n",
       "0     Q       Q       Q       Q  \n",
       "1   1.7       0     NaN     1.5  \n",
       "2   1.7       0     NaN     1.5  \n",
       "3   1.7       0     NaN     1.5  \n",
       "4   1.7       0     NaN     1.5  \n",
       "\n",
       "[5 rows x 158 columns]"
      ]
     },
     "execution_count": 8,
     "metadata": {},
     "output_type": "execute_result"
    }
   ],
   "source": [
    "macro_data.head()"
   ]
  },
  {
   "cell_type": "code",
   "execution_count": 9,
   "id": "ce7522ea",
   "metadata": {},
   "outputs": [
    {
     "data": {
      "text/html": [
       "<div>\n",
       "<style scoped>\n",
       "    .dataframe tbody tr th:only-of-type {\n",
       "        vertical-align: middle;\n",
       "    }\n",
       "\n",
       "    .dataframe tbody tr th {\n",
       "        vertical-align: top;\n",
       "    }\n",
       "\n",
       "    .dataframe thead th {\n",
       "        text-align: right;\n",
       "    }\n",
       "</style>\n",
       "<table border=\"1\" class=\"dataframe\">\n",
       "  <thead>\n",
       "    <tr style=\"text-align: right;\">\n",
       "      <th></th>\n",
       "      <th>Unnamed: 0</th>\n",
       "      <th>A006260</th>\n",
       "      <th>A009830</th>\n",
       "      <th>A010060</th>\n",
       "      <th>A011930</th>\n",
       "      <th>A018000</th>\n",
       "      <th>A034020</th>\n",
       "      <th>A081000</th>\n",
       "      <th>A086390</th>\n",
       "      <th>A100090</th>\n",
       "      <th>...</th>\n",
       "      <th>A077360</th>\n",
       "      <th>A096640</th>\n",
       "      <th>A033170</th>\n",
       "      <th>A123260</th>\n",
       "      <th>A114810</th>\n",
       "      <th>A141000</th>\n",
       "      <th>A241770</th>\n",
       "      <th>A255440</th>\n",
       "      <th>A123860</th>\n",
       "      <th>A006350</th>\n",
       "    </tr>\n",
       "  </thead>\n",
       "  <tbody>\n",
       "    <tr>\n",
       "      <th>0</th>\n",
       "      <td>2006-01-31</td>\n",
       "      <td>코스피 전기,전자</td>\n",
       "      <td>코스피 화학</td>\n",
       "      <td>코스피 화학</td>\n",
       "      <td>코스피 기계</td>\n",
       "      <td>코스닥 제조</td>\n",
       "      <td>코스피 기계</td>\n",
       "      <td>코스피 화학</td>\n",
       "      <td>NaN</td>\n",
       "      <td>NaN</td>\n",
       "      <td>...</td>\n",
       "      <td>코스닥 IT H/W</td>\n",
       "      <td>NaN</td>\n",
       "      <td>NaN</td>\n",
       "      <td>NaN</td>\n",
       "      <td>NaN</td>\n",
       "      <td>NaN</td>\n",
       "      <td>NaN</td>\n",
       "      <td>NaN</td>\n",
       "      <td>NaN</td>\n",
       "      <td>코스피 은행</td>\n",
       "    </tr>\n",
       "    <tr>\n",
       "      <th>1</th>\n",
       "      <td>2006-02-28</td>\n",
       "      <td>코스피 전기,전자</td>\n",
       "      <td>코스피 화학</td>\n",
       "      <td>코스피 화학</td>\n",
       "      <td>코스피 기계</td>\n",
       "      <td>코스닥 제조</td>\n",
       "      <td>코스피 기계</td>\n",
       "      <td>코스피 화학</td>\n",
       "      <td>NaN</td>\n",
       "      <td>NaN</td>\n",
       "      <td>...</td>\n",
       "      <td>코스닥 IT H/W</td>\n",
       "      <td>NaN</td>\n",
       "      <td>NaN</td>\n",
       "      <td>NaN</td>\n",
       "      <td>NaN</td>\n",
       "      <td>NaN</td>\n",
       "      <td>NaN</td>\n",
       "      <td>NaN</td>\n",
       "      <td>NaN</td>\n",
       "      <td>코스피 은행</td>\n",
       "    </tr>\n",
       "    <tr>\n",
       "      <th>2</th>\n",
       "      <td>2006-03-31</td>\n",
       "      <td>코스피 전기,전자</td>\n",
       "      <td>코스피 화학</td>\n",
       "      <td>코스피 화학</td>\n",
       "      <td>코스피 기계</td>\n",
       "      <td>코스닥 제조</td>\n",
       "      <td>코스피 기계</td>\n",
       "      <td>코스피 화학</td>\n",
       "      <td>NaN</td>\n",
       "      <td>NaN</td>\n",
       "      <td>...</td>\n",
       "      <td>코스닥 IT H/W</td>\n",
       "      <td>NaN</td>\n",
       "      <td>NaN</td>\n",
       "      <td>NaN</td>\n",
       "      <td>NaN</td>\n",
       "      <td>NaN</td>\n",
       "      <td>NaN</td>\n",
       "      <td>NaN</td>\n",
       "      <td>NaN</td>\n",
       "      <td>코스피 은행</td>\n",
       "    </tr>\n",
       "    <tr>\n",
       "      <th>3</th>\n",
       "      <td>2006-04-30</td>\n",
       "      <td>코스피 전기,전자</td>\n",
       "      <td>코스피 화학</td>\n",
       "      <td>코스피 화학</td>\n",
       "      <td>코스피 기계</td>\n",
       "      <td>코스닥 제조</td>\n",
       "      <td>코스피 기계</td>\n",
       "      <td>코스피 화학</td>\n",
       "      <td>NaN</td>\n",
       "      <td>NaN</td>\n",
       "      <td>...</td>\n",
       "      <td>코스닥 IT H/W</td>\n",
       "      <td>NaN</td>\n",
       "      <td>NaN</td>\n",
       "      <td>NaN</td>\n",
       "      <td>NaN</td>\n",
       "      <td>NaN</td>\n",
       "      <td>NaN</td>\n",
       "      <td>NaN</td>\n",
       "      <td>NaN</td>\n",
       "      <td>코스피 은행</td>\n",
       "    </tr>\n",
       "    <tr>\n",
       "      <th>4</th>\n",
       "      <td>2006-05-31</td>\n",
       "      <td>코스피 전기,전자</td>\n",
       "      <td>코스피 화학</td>\n",
       "      <td>코스피 화학</td>\n",
       "      <td>코스피 기계</td>\n",
       "      <td>코스닥 제조</td>\n",
       "      <td>코스피 기계</td>\n",
       "      <td>코스피 화학</td>\n",
       "      <td>NaN</td>\n",
       "      <td>NaN</td>\n",
       "      <td>...</td>\n",
       "      <td>코스닥 IT H/W</td>\n",
       "      <td>NaN</td>\n",
       "      <td>NaN</td>\n",
       "      <td>NaN</td>\n",
       "      <td>NaN</td>\n",
       "      <td>NaN</td>\n",
       "      <td>NaN</td>\n",
       "      <td>NaN</td>\n",
       "      <td>NaN</td>\n",
       "      <td>코스피 은행</td>\n",
       "    </tr>\n",
       "  </tbody>\n",
       "</table>\n",
       "<p>5 rows × 1326 columns</p>\n",
       "</div>"
      ],
      "text/plain": [
       "   Unnamed: 0    A006260 A009830 A010060 A011930 A018000 A034020 A081000  \\\n",
       "0  2006-01-31  코스피 전기,전자  코스피 화학  코스피 화학  코스피 기계  코스닥 제조  코스피 기계  코스피 화학   \n",
       "1  2006-02-28  코스피 전기,전자  코스피 화학  코스피 화학  코스피 기계  코스닥 제조  코스피 기계  코스피 화학   \n",
       "2  2006-03-31  코스피 전기,전자  코스피 화학  코스피 화학  코스피 기계  코스닥 제조  코스피 기계  코스피 화학   \n",
       "3  2006-04-30  코스피 전기,전자  코스피 화학  코스피 화학  코스피 기계  코스닥 제조  코스피 기계  코스피 화학   \n",
       "4  2006-05-31  코스피 전기,전자  코스피 화학  코스피 화학  코스피 기계  코스닥 제조  코스피 기계  코스피 화학   \n",
       "\n",
       "  A086390 A100090  ...     A077360 A096640 A033170 A123260 A114810 A141000  \\\n",
       "0     NaN     NaN  ...  코스닥 IT H/W     NaN     NaN     NaN     NaN     NaN   \n",
       "1     NaN     NaN  ...  코스닥 IT H/W     NaN     NaN     NaN     NaN     NaN   \n",
       "2     NaN     NaN  ...  코스닥 IT H/W     NaN     NaN     NaN     NaN     NaN   \n",
       "3     NaN     NaN  ...  코스닥 IT H/W     NaN     NaN     NaN     NaN     NaN   \n",
       "4     NaN     NaN  ...  코스닥 IT H/W     NaN     NaN     NaN     NaN     NaN   \n",
       "\n",
       "  A241770 A255440 A123860 A006350  \n",
       "0     NaN     NaN     NaN  코스피 은행  \n",
       "1     NaN     NaN     NaN  코스피 은행  \n",
       "2     NaN     NaN     NaN  코스피 은행  \n",
       "3     NaN     NaN     NaN  코스피 은행  \n",
       "4     NaN     NaN     NaN  코스피 은행  \n",
       "\n",
       "[5 rows x 1326 columns]"
      ]
     },
     "execution_count": 9,
     "metadata": {},
     "output_type": "execute_result"
    }
   ],
   "source": [
    "stock_sector.head()"
   ]
  },
  {
   "cell_type": "markdown",
   "id": "a0b8012b",
   "metadata": {},
   "source": [
    "# Data check"
   ]
  },
  {
   "cell_type": "markdown",
   "id": "d9c5430e",
   "metadata": {},
   "source": [
    "데이터별로 결측치와 통계치를 확인해보겠습니다.  "
   ]
  },
  {
   "cell_type": "markdown",
   "id": "5dd90c46",
   "metadata": {},
   "source": [
    "## etf_info\n",
    "\n",
    "- 투자 대상 ETF 정보  \n",
    "    - 파일 이름 : etf_info.csv\n",
    "        - 현재 상장되어 운용중인 ETF의 기본정보"
   ]
  },
  {
   "cell_type": "code",
   "execution_count": 10,
   "id": "e8258824",
   "metadata": {},
   "outputs": [
    {
     "data": {
      "text/plain": [
       "Index(['코드', '펀드명', '분류', '벤치마크명', '설정일'], dtype='object')"
      ]
     },
     "execution_count": 10,
     "metadata": {},
     "output_type": "execute_result"
    }
   ],
   "source": [
    "etf_info.columns"
   ]
  },
  {
   "cell_type": "markdown",
   "id": "9d0a015e",
   "metadata": {},
   "source": [
    "설정일 정보는 시간 데이터이므로 timestampe형식으로 변경해주겠습니다."
   ]
  },
  {
   "cell_type": "code",
   "execution_count": 11,
   "id": "703047c5",
   "metadata": {},
   "outputs": [
    {
     "name": "stderr",
     "output_type": "stream",
     "text": [
      "100%|██████████| 127/127 [00:00<00:00, 39463.37it/s]\n"
     ]
    }
   ],
   "source": [
    "etf_info['설정일'] = etf_info['설정일'].progress_apply(lambda x: datetime.strptime(x, '%Y-%m-%d'))"
   ]
  },
  {
   "cell_type": "code",
   "execution_count": 12,
   "id": "85db6283",
   "metadata": {
    "scrolled": false
   },
   "outputs": [
    {
     "data": {
      "text/plain": [
       "<Figure size 720x576 with 0 Axes>"
      ]
     },
     "metadata": {},
     "output_type": "display_data"
    },
    {
     "data": {
      "image/png": "[encoded data removed]",
      "text/plain": [
       "<Figure size 1800x720 with 2 Axes>"
      ]
     },
     "metadata": {
      "needs_background": "light"
     },
     "output_type": "display_data"
    }
   ],
   "source": [
    "plt.figure(figsize=(10,8))\n",
    "\n",
    "msno.matrix(etf_info)\n",
    "plt.show()"
   ]
  },
  {
   "cell_type": "code",
   "execution_count": 13,
   "id": "348de5f1",
   "metadata": {},
   "outputs": [
    {
     "data": {
      "text/plain": [
       "코드       0\n",
       "펀드명      0\n",
       "분류       0\n",
       "벤치마크명    0\n",
       "설정일      0\n",
       "dtype: int64"
      ]
     },
     "execution_count": 13,
     "metadata": {},
     "output_type": "execute_result"
    }
   ],
   "source": [
    "etf_info.isna().sum()"
   ]
  },
  {
   "cell_type": "markdown",
   "id": "6923ed0a",
   "metadata": {},
   "source": [
    "일단 ETF 정보에는 결측치는 존재하지 않는 것으로 보입니다.  \n",
    "이번엔 각 데이터별 고유 정보의 수를 확인해보겠습니다."
   ]
  },
  {
   "cell_type": "code",
   "execution_count": 14,
   "id": "09ad3390",
   "metadata": {},
   "outputs": [
    {
     "name": "stdout",
     "output_type": "stream",
     "text": [
      "전체 데이터의 수 : 127\n",
      "펀드의 종류 : 126\n",
      "펀드 코드의 종류 : 126\n",
      "펀드 카테고리의 수 : 17\n",
      "벤치마크 종류 수 : 120\n"
     ]
    }
   ],
   "source": [
    "funds = etf_info['펀드명'].unique()\n",
    "codes = etf_info['코드'].unique()\n",
    "fund_categories = etf_info['분류'].unique()\n",
    "benchmarks = etf_info['벤치마크명'].unique()\n",
    "\n",
    "print(f'전체 데이터의 수 : {etf_info.shape[0]}')\n",
    "print(f'펀드의 종류 : {len(funds)}')\n",
    "print(f'펀드 코드의 종류 : {len(codes)}')\n",
    "print(f'펀드 카테고리의 수 : {len(fund_categories)}')\n",
    "print(f'벤치마크 종류 수 : {len(benchmarks)}')"
   ]
  },
  {
   "cell_type": "markdown",
   "id": "bd0fbd46",
   "metadata": {},
   "source": [
    "카테고리별로 데이터를 분류해보겠습니다."
   ]
  },
  {
   "cell_type": "code",
   "execution_count": 15,
   "id": "2649d4de",
   "metadata": {},
   "outputs": [
    {
     "data": {
      "image/png": "[encoded data removed]",
      "text/plain": [
       "<Figure size 1440x504 with 1 Axes>"
      ]
     },
     "metadata": {
      "needs_background": "light"
     },
     "output_type": "display_data"
    }
   ],
   "source": [
    "fig, ax = plt.subplots(figsize=(20,7))\n",
    "sns.countplot(data=etf_info, x='분류', ax=ax)\n",
    "plt.xlabel('분류', fontsize=15)\n",
    "plt.ylabel('개수', fontsize=15)\n",
    "plt.xticks(rotation=45, fontsize=15)\n",
    "plt.title('분류별 데이터 분포', fontsize=20)\n",
    "plt.show()"
   ]
  },
  {
   "cell_type": "code",
   "execution_count": 16,
   "id": "b71fac1d",
   "metadata": {},
   "outputs": [
    {
     "data": {
      "text/plain": [
       "array(['4.국내-전략', '03.국내-전략', '02.국내-업종섹터', '01.국내-시장대표', '04.국내-규모',\n",
       "       '11.해외-업종섹터', '12.해외-전략', '10.해외-시장대표', '05.국내-채권', '13.해외-채권',\n",
       "       '14.해외-원자재', '18.해외-통화', '09.국내-액티브', '07.국내-혼합', '15.해외-부동산',\n",
       "       '08.국내-레버리지/인버스', '17.해외-레버리지/인버스'], dtype=object)"
      ]
     },
     "execution_count": 16,
     "metadata": {},
     "output_type": "execute_result"
    }
   ],
   "source": [
    "fund_categories"
   ]
  },
  {
   "cell_type": "markdown",
   "id": "22ca40b7",
   "metadata": {},
   "source": [
    "## etf_data\n",
    "\n",
    "- ETF 가격데이터\n",
    "    - 파일 이름 : etf_data.csv\n",
    "        - ETF의 일별 시가, 고가, 저가, 종가, 거래량 데이터"
   ]
  },
  {
   "cell_type": "markdown",
   "id": "2377e51a",
   "metadata": {},
   "source": [
    "우선 날짜 정보를 timestamp 타입으로 변환하겠습니다."
   ]
  },
  {
   "cell_type": "code",
   "execution_count": 17,
   "id": "3d9d158f",
   "metadata": {},
   "outputs": [
    {
     "name": "stderr",
     "output_type": "stream",
     "text": [
      "100%|██████████| 830935/830935 [00:07<00:00, 114746.23it/s]\n"
     ]
    }
   ],
   "source": [
    "etf_data.tdate = etf_data.tdate.progress_apply(lambda x: datetime.strptime(x, '%Y-%m-%d'))"
   ]
  },
  {
   "cell_type": "markdown",
   "id": "02d5a671",
   "metadata": {},
   "source": [
    "이제 etf_data의 결측치를 확인하겠습니다. 데이터프레임을 재정의해야하므로 결측치가 존재하는지 확인해야합니다."
   ]
  },
  {
   "cell_type": "code",
   "execution_count": 18,
   "id": "c8095b36",
   "metadata": {},
   "outputs": [
    {
     "data": {
      "text/plain": [
       "<AxesSubplot:>"
      ]
     },
     "execution_count": 18,
     "metadata": {},
     "output_type": "execute_result"
    },
    {
     "data": {
      "image/png": "[encoded data removed]",
      "text/plain": [
       "<Figure size 1800x720 with 2 Axes>"
      ]
     },
     "metadata": {
      "needs_background": "light"
     },
     "output_type": "display_data"
    }
   ],
   "source": [
    "msno.matrix(etf_data)"
   ]
  },
  {
   "cell_type": "code",
   "execution_count": 19,
   "id": "e4182774",
   "metadata": {},
   "outputs": [
    {
     "data": {
      "text/plain": [
       "tdate        0\n",
       "etf_code     0\n",
       "data_name    0\n",
       "value        0\n",
       "dtype: int64"
      ]
     },
     "execution_count": 19,
     "metadata": {},
     "output_type": "execute_result"
    }
   ],
   "source": [
    "etf_data.isna().sum()"
   ]
  },
  {
   "cell_type": "markdown",
   "id": "a5090997",
   "metadata": {},
   "source": [
    "결측치는 따로 존재하지 않는 것 같습니다.\n",
    "\n",
    "etf_data는 데이터의 형태가 특이하기때문에 데이터프레임을 재정의할 필요가 있습니다.  \n",
    "<img src='./img/etf_data.png' style='width:300px'/>"
   ]
  },
  {
   "cell_type": "markdown",
   "id": "8d6675f1",
   "metadata": {},
   "source": [
    "데이터프레임을 분석해보면 우선적으로 `tdate`를 기준으로 각 `etf_code`의 `data_name`을 컬럼으로 재정의 할 필요가 있습니다."
   ]
  },
  {
   "cell_type": "code",
   "execution_count": 20,
   "id": "d27c514a",
   "metadata": {},
   "outputs": [],
   "source": [
    "def get_etf_data(data):\n",
    "    ret = pd.DataFrame()\n",
    "    \n",
    "    code = data['etf_code'].values[0]\n",
    "    dates = data['tdate'].unique()\n",
    "    \n",
    "    ret['tdate'] = dates\n",
    "    ret['etf_code'] = code\n",
    "    ret['시가'] = data.loc[data.data_name == '시가'].value.values\n",
    "    ret['저가'] = data.loc[data.data_name == '저가'].value.values\n",
    "    ret['고가'] = data.loc[data.data_name == '고가'].value.values\n",
    "    ret['종가'] = data.loc[data.data_name == '종가'].value.values\n",
    "    ret['거래량'] = data.loc[data.data_name == '거래량'].value.values\n",
    "    \n",
    "    return ret"
   ]
  },
  {
   "cell_type": "code",
   "execution_count": 21,
   "id": "f22e520a",
   "metadata": {
    "scrolled": true
   },
   "outputs": [],
   "source": [
    "if 'etf_data_new.csv' in os.listdir(path):\n",
    "    etf_data_new = pd.read_csv(path+'etf_data_new.csv')\n",
    "else:\n",
    "    etf_data_new = pd.DataFrame(columns=['tdate', 'etf_code', '시가', '저가', '고가', '종가', '거래량'])\n",
    "    grouped = etf_data.groupby('etf_code', as_index=False)\n",
    "\n",
    "    for name, item in tqdm(grouped):\n",
    "        tmp = get_etf_data(item)\n",
    "\n",
    "        etf_data_new = etf_data_new.append(tmp, ignore_index=True)\n",
    "\n",
    "    etf_data_new[['시가', '종가', '저가', '고가', '거래량']] = etf_data_new[['시가', '종가', '저가', '고가', '거래량']].apply(pd.to_numeric)\n",
    "    etf_data_new.to_csv(path+'etf_data_new.csv', index=False)"
   ]
  },
  {
   "cell_type": "code",
   "execution_count": 22,
   "id": "a0e6c213",
   "metadata": {
    "scrolled": false
   },
   "outputs": [
    {
     "data": {
      "text/html": [
       "<div>\n",
       "<style scoped>\n",
       "    .dataframe tbody tr th:only-of-type {\n",
       "        vertical-align: middle;\n",
       "    }\n",
       "\n",
       "    .dataframe tbody tr th {\n",
       "        vertical-align: top;\n",
       "    }\n",
       "\n",
       "    .dataframe thead th {\n",
       "        text-align: right;\n",
       "    }\n",
       "</style>\n",
       "<table border=\"1\" class=\"dataframe\">\n",
       "  <thead>\n",
       "    <tr style=\"text-align: right;\">\n",
       "      <th></th>\n",
       "      <th>tdate</th>\n",
       "      <th>etf_code</th>\n",
       "      <th>시가</th>\n",
       "      <th>저가</th>\n",
       "      <th>고가</th>\n",
       "      <th>종가</th>\n",
       "      <th>거래량</th>\n",
       "    </tr>\n",
       "  </thead>\n",
       "  <tbody>\n",
       "    <tr>\n",
       "      <th>0</th>\n",
       "      <td>2012-01-02</td>\n",
       "      <td>A091220</td>\n",
       "      <td>7240</td>\n",
       "      <td>7055</td>\n",
       "      <td>7240</td>\n",
       "      <td>7110</td>\n",
       "      <td>5114</td>\n",
       "    </tr>\n",
       "    <tr>\n",
       "      <th>1</th>\n",
       "      <td>2012-01-03</td>\n",
       "      <td>A091220</td>\n",
       "      <td>7180</td>\n",
       "      <td>7180</td>\n",
       "      <td>7365</td>\n",
       "      <td>7365</td>\n",
       "      <td>1979</td>\n",
       "    </tr>\n",
       "    <tr>\n",
       "      <th>2</th>\n",
       "      <td>2012-01-04</td>\n",
       "      <td>A091220</td>\n",
       "      <td>7370</td>\n",
       "      <td>7220</td>\n",
       "      <td>7370</td>\n",
       "      <td>7220</td>\n",
       "      <td>79</td>\n",
       "    </tr>\n",
       "    <tr>\n",
       "      <th>3</th>\n",
       "      <td>2012-01-05</td>\n",
       "      <td>A091220</td>\n",
       "      <td>7220</td>\n",
       "      <td>7150</td>\n",
       "      <td>7220</td>\n",
       "      <td>7150</td>\n",
       "      <td>359</td>\n",
       "    </tr>\n",
       "    <tr>\n",
       "      <th>4</th>\n",
       "      <td>2012-01-06</td>\n",
       "      <td>A091220</td>\n",
       "      <td>7145</td>\n",
       "      <td>7055</td>\n",
       "      <td>7165</td>\n",
       "      <td>7055</td>\n",
       "      <td>89</td>\n",
       "    </tr>\n",
       "  </tbody>\n",
       "</table>\n",
       "</div>"
      ],
      "text/plain": [
       "        tdate etf_code    시가    저가    고가    종가   거래량\n",
       "0  2012-01-02  A091220  7240  7055  7240  7110  5114\n",
       "1  2012-01-03  A091220  7180  7180  7365  7365  1979\n",
       "2  2012-01-04  A091220  7370  7220  7370  7220    79\n",
       "3  2012-01-05  A091220  7220  7150  7220  7150   359\n",
       "4  2012-01-06  A091220  7145  7055  7165  7055    89"
      ]
     },
     "execution_count": 22,
     "metadata": {},
     "output_type": "execute_result"
    }
   ],
   "source": [
    "etf_data_new.head()"
   ]
  },
  {
   "cell_type": "markdown",
   "id": "262e80e6",
   "metadata": {},
   "source": [
    "이제 데이터프레임을 전처리와 분석에 편리한 형태로 재정의 하였습니다.  \n",
    "후에 데이터 관리의 편의를 위해 따로 저장을 해두겠습니다.  \n",
    "\n",
    "우선 etf_code별로 가격들과 거래지표를 표시했습니다. 이제 주요 통계지표를 확인해보겠습니다."
   ]
  },
  {
   "cell_type": "code",
   "execution_count": 23,
   "id": "9a600144",
   "metadata": {},
   "outputs": [
    {
     "data": {
      "text/html": [
       "<div>\n",
       "<style scoped>\n",
       "    .dataframe tbody tr th:only-of-type {\n",
       "        vertical-align: middle;\n",
       "    }\n",
       "\n",
       "    .dataframe tbody tr th {\n",
       "        vertical-align: top;\n",
       "    }\n",
       "\n",
       "    .dataframe thead th {\n",
       "        text-align: right;\n",
       "    }\n",
       "</style>\n",
       "<table border=\"1\" class=\"dataframe\">\n",
       "  <thead>\n",
       "    <tr style=\"text-align: right;\">\n",
       "      <th></th>\n",
       "      <th>시가</th>\n",
       "      <th>저가</th>\n",
       "      <th>고가</th>\n",
       "      <th>종가</th>\n",
       "      <th>거래량</th>\n",
       "    </tr>\n",
       "  </thead>\n",
       "  <tbody>\n",
       "    <tr>\n",
       "      <th>count</th>\n",
       "      <td>166187.000000</td>\n",
       "      <td>166187.000000</td>\n",
       "      <td>166187.000000</td>\n",
       "      <td>166187.000000</td>\n",
       "      <td>1.661870e+05</td>\n",
       "    </tr>\n",
       "    <tr>\n",
       "      <th>mean</th>\n",
       "      <td>15478.194805</td>\n",
       "      <td>15391.230511</td>\n",
       "      <td>15549.302683</td>\n",
       "      <td>15473.084327</td>\n",
       "      <td>1.504745e+05</td>\n",
       "    </tr>\n",
       "    <tr>\n",
       "      <th>std</th>\n",
       "      <td>17497.760756</td>\n",
       "      <td>17482.999824</td>\n",
       "      <td>17514.159896</td>\n",
       "      <td>17499.689976</td>\n",
       "      <td>7.577560e+05</td>\n",
       "    </tr>\n",
       "    <tr>\n",
       "      <th>min</th>\n",
       "      <td>1215.000000</td>\n",
       "      <td>1185.000000</td>\n",
       "      <td>1260.000000</td>\n",
       "      <td>1185.000000</td>\n",
       "      <td>0.000000e+00</td>\n",
       "    </tr>\n",
       "    <tr>\n",
       "      <th>25%</th>\n",
       "      <td>7855.000000</td>\n",
       "      <td>7800.000000</td>\n",
       "      <td>7905.000000</td>\n",
       "      <td>7850.000000</td>\n",
       "      <td>4.230000e+02</td>\n",
       "    </tr>\n",
       "    <tr>\n",
       "      <th>50%</th>\n",
       "      <td>10930.000000</td>\n",
       "      <td>10855.000000</td>\n",
       "      <td>10990.000000</td>\n",
       "      <td>10925.000000</td>\n",
       "      <td>4.132000e+03</td>\n",
       "    </tr>\n",
       "    <tr>\n",
       "      <th>75%</th>\n",
       "      <td>15215.000000</td>\n",
       "      <td>15095.000000</td>\n",
       "      <td>15305.000000</td>\n",
       "      <td>15200.000000</td>\n",
       "      <td>3.895450e+04</td>\n",
       "    </tr>\n",
       "    <tr>\n",
       "      <th>max</th>\n",
       "      <td>120000.000000</td>\n",
       "      <td>112125.000000</td>\n",
       "      <td>131255.000000</td>\n",
       "      <td>131255.000000</td>\n",
       "      <td>9.648249e+07</td>\n",
       "    </tr>\n",
       "  </tbody>\n",
       "</table>\n",
       "</div>"
      ],
      "text/plain": [
       "                  시가             저가             고가             종가  \\\n",
       "count  166187.000000  166187.000000  166187.000000  166187.000000   \n",
       "mean    15478.194805   15391.230511   15549.302683   15473.084327   \n",
       "std     17497.760756   17482.999824   17514.159896   17499.689976   \n",
       "min      1215.000000    1185.000000    1260.000000    1185.000000   \n",
       "25%      7855.000000    7800.000000    7905.000000    7850.000000   \n",
       "50%     10930.000000   10855.000000   10990.000000   10925.000000   \n",
       "75%     15215.000000   15095.000000   15305.000000   15200.000000   \n",
       "max    120000.000000  112125.000000  131255.000000  131255.000000   \n",
       "\n",
       "                거래량  \n",
       "count  1.661870e+05  \n",
       "mean   1.504745e+05  \n",
       "std    7.577560e+05  \n",
       "min    0.000000e+00  \n",
       "25%    4.230000e+02  \n",
       "50%    4.132000e+03  \n",
       "75%    3.895450e+04  \n",
       "max    9.648249e+07  "
      ]
     },
     "execution_count": 23,
     "metadata": {},
     "output_type": "execute_result"
    }
   ],
   "source": [
    "etf_data_new.describe()"
   ]
  },
  {
   "cell_type": "markdown",
   "id": "0aaba372",
   "metadata": {},
   "source": [
    "## stock_data\n",
    "\n",
    "- ETF 보유내역에 존재하는 종목의 가격데이터\n",
    "    - 파일 이름 : stock_data.csv\n",
    "        - 종목들의 일별 시가, 고가, 저가, 종가, 거래량, 시가총액, 거래정지 구분 데이터  "
   ]
  },
  {
   "cell_type": "markdown",
   "id": "b5bd5034",
   "metadata": {},
   "source": [
    "etf_data와 마찬가지로 `tdate`변수를 timestamp로 변경해주고 데이터프레임을 재정의해야합니다.  \n",
    "똑같은 과정을 거치겠습니다."
   ]
  },
  {
   "cell_type": "code",
   "execution_count": 24,
   "id": "017c5ff5",
   "metadata": {},
   "outputs": [
    {
     "name": "stderr",
     "output_type": "stream",
     "text": [
      "100%|██████████| 27819602/27819602 [04:06<00:00, 112929.51it/s]\n"
     ]
    }
   ],
   "source": [
    "stock_data.tdate = stock_data.tdate.progress_apply(lambda x: datetime.strptime(x, '%Y-%m-%d'))"
   ]
  },
  {
   "cell_type": "code",
   "execution_count": 25,
   "id": "e950bf24",
   "metadata": {
    "scrolled": true
   },
   "outputs": [
    {
     "data": {
      "text/plain": [
       "tdate         0\n",
       "stock_code    0\n",
       "data_name     0\n",
       "value         0\n",
       "dtype: int64"
      ]
     },
     "execution_count": 25,
     "metadata": {},
     "output_type": "execute_result"
    }
   ],
   "source": [
    "stock_data.isna().sum()"
   ]
  },
  {
   "cell_type": "code",
   "execution_count": 26,
   "id": "316d5e75",
   "metadata": {},
   "outputs": [
    {
     "data": {
      "text/plain": [
       "Index(['tdate', 'stock_code', 'data_name', 'value'], dtype='object')"
      ]
     },
     "execution_count": 26,
     "metadata": {},
     "output_type": "execute_result"
    }
   ],
   "source": [
    "stock_data.columns"
   ]
  },
  {
   "cell_type": "code",
   "execution_count": 27,
   "id": "34cc8a80",
   "metadata": {},
   "outputs": [
    {
     "data": {
      "text/plain": [
       "array(['거래량', '거래정지여부(1:정지, 0:정상)', '고가', '시가', '시가총액', '저가', '종가'],\n",
       "      dtype=object)"
      ]
     },
     "execution_count": 27,
     "metadata": {},
     "output_type": "execute_result"
    }
   ],
   "source": [
    "stock_data.data_name.unique()"
   ]
  },
  {
   "cell_type": "code",
   "execution_count": 139,
   "id": "e7966dd2",
   "metadata": {},
   "outputs": [],
   "source": [
    "if 'stock_data_new.csv' in os.listdir(path):\n",
    "    stock_data_new = pd.read_csv(path+'stock_data_new.csv')\n",
    "else:\n",
    "    piv = stock_data.pivot_table(index=['tdate', 'stock_code'], columns=['data_name'])\n",
    "    piv = piv.reset_index()\n",
    "    piv = piv.drop(['index'], axis=1)\n",
    "    piv.columns = ['tdate', 'stock_code', '거래량', '거래정지여부(1:정지, 0:정상)', '고가', '시가', '시가총액', '저가', '종가']\n",
    "    stock_data_new = piv\n",
    "    \n",
    "    stock_data_new.to_csv(path+'stock_data_new.csv', index=False)"
   ]
  },
  {
   "cell_type": "markdown",
   "id": "f65dfe1c",
   "metadata": {},
   "source": [
    "## stock_sector\n",
    "\n",
    "- ETF 보유내역에 존재하는 종목의 가격데이터\n",
    "    - 파일 이름 : stock_sector_data.csv\n",
    "        - 종목들의 월별 업종 역사적 데이터  "
   ]
  },
  {
   "cell_type": "code",
   "execution_count": 140,
   "id": "003015e5",
   "metadata": {},
   "outputs": [
    {
     "data": {
      "text/html": [
       "<div>\n",
       "<style scoped>\n",
       "    .dataframe tbody tr th:only-of-type {\n",
       "        vertical-align: middle;\n",
       "    }\n",
       "\n",
       "    .dataframe tbody tr th {\n",
       "        vertical-align: top;\n",
       "    }\n",
       "\n",
       "    .dataframe thead th {\n",
       "        text-align: right;\n",
       "    }\n",
       "</style>\n",
       "<table border=\"1\" class=\"dataframe\">\n",
       "  <thead>\n",
       "    <tr style=\"text-align: right;\">\n",
       "      <th></th>\n",
       "      <th>Unnamed: 0</th>\n",
       "      <th>A006260</th>\n",
       "      <th>A009830</th>\n",
       "      <th>A010060</th>\n",
       "      <th>A011930</th>\n",
       "      <th>A018000</th>\n",
       "      <th>A034020</th>\n",
       "      <th>A081000</th>\n",
       "      <th>A086390</th>\n",
       "      <th>A100090</th>\n",
       "      <th>...</th>\n",
       "      <th>A077360</th>\n",
       "      <th>A096640</th>\n",
       "      <th>A033170</th>\n",
       "      <th>A123260</th>\n",
       "      <th>A114810</th>\n",
       "      <th>A141000</th>\n",
       "      <th>A241770</th>\n",
       "      <th>A255440</th>\n",
       "      <th>A123860</th>\n",
       "      <th>A006350</th>\n",
       "    </tr>\n",
       "  </thead>\n",
       "  <tbody>\n",
       "    <tr>\n",
       "      <th>0</th>\n",
       "      <td>2006-01-31</td>\n",
       "      <td>코스피 전기,전자</td>\n",
       "      <td>코스피 화학</td>\n",
       "      <td>코스피 화학</td>\n",
       "      <td>코스피 기계</td>\n",
       "      <td>코스닥 제조</td>\n",
       "      <td>코스피 기계</td>\n",
       "      <td>코스피 화학</td>\n",
       "      <td>NaN</td>\n",
       "      <td>NaN</td>\n",
       "      <td>...</td>\n",
       "      <td>코스닥 IT H/W</td>\n",
       "      <td>NaN</td>\n",
       "      <td>NaN</td>\n",
       "      <td>NaN</td>\n",
       "      <td>NaN</td>\n",
       "      <td>NaN</td>\n",
       "      <td>NaN</td>\n",
       "      <td>NaN</td>\n",
       "      <td>NaN</td>\n",
       "      <td>코스피 은행</td>\n",
       "    </tr>\n",
       "    <tr>\n",
       "      <th>1</th>\n",
       "      <td>2006-02-28</td>\n",
       "      <td>코스피 전기,전자</td>\n",
       "      <td>코스피 화학</td>\n",
       "      <td>코스피 화학</td>\n",
       "      <td>코스피 기계</td>\n",
       "      <td>코스닥 제조</td>\n",
       "      <td>코스피 기계</td>\n",
       "      <td>코스피 화학</td>\n",
       "      <td>NaN</td>\n",
       "      <td>NaN</td>\n",
       "      <td>...</td>\n",
       "      <td>코스닥 IT H/W</td>\n",
       "      <td>NaN</td>\n",
       "      <td>NaN</td>\n",
       "      <td>NaN</td>\n",
       "      <td>NaN</td>\n",
       "      <td>NaN</td>\n",
       "      <td>NaN</td>\n",
       "      <td>NaN</td>\n",
       "      <td>NaN</td>\n",
       "      <td>코스피 은행</td>\n",
       "    </tr>\n",
       "    <tr>\n",
       "      <th>2</th>\n",
       "      <td>2006-03-31</td>\n",
       "      <td>코스피 전기,전자</td>\n",
       "      <td>코스피 화학</td>\n",
       "      <td>코스피 화학</td>\n",
       "      <td>코스피 기계</td>\n",
       "      <td>코스닥 제조</td>\n",
       "      <td>코스피 기계</td>\n",
       "      <td>코스피 화학</td>\n",
       "      <td>NaN</td>\n",
       "      <td>NaN</td>\n",
       "      <td>...</td>\n",
       "      <td>코스닥 IT H/W</td>\n",
       "      <td>NaN</td>\n",
       "      <td>NaN</td>\n",
       "      <td>NaN</td>\n",
       "      <td>NaN</td>\n",
       "      <td>NaN</td>\n",
       "      <td>NaN</td>\n",
       "      <td>NaN</td>\n",
       "      <td>NaN</td>\n",
       "      <td>코스피 은행</td>\n",
       "    </tr>\n",
       "    <tr>\n",
       "      <th>3</th>\n",
       "      <td>2006-04-30</td>\n",
       "      <td>코스피 전기,전자</td>\n",
       "      <td>코스피 화학</td>\n",
       "      <td>코스피 화학</td>\n",
       "      <td>코스피 기계</td>\n",
       "      <td>코스닥 제조</td>\n",
       "      <td>코스피 기계</td>\n",
       "      <td>코스피 화학</td>\n",
       "      <td>NaN</td>\n",
       "      <td>NaN</td>\n",
       "      <td>...</td>\n",
       "      <td>코스닥 IT H/W</td>\n",
       "      <td>NaN</td>\n",
       "      <td>NaN</td>\n",
       "      <td>NaN</td>\n",
       "      <td>NaN</td>\n",
       "      <td>NaN</td>\n",
       "      <td>NaN</td>\n",
       "      <td>NaN</td>\n",
       "      <td>NaN</td>\n",
       "      <td>코스피 은행</td>\n",
       "    </tr>\n",
       "    <tr>\n",
       "      <th>4</th>\n",
       "      <td>2006-05-31</td>\n",
       "      <td>코스피 전기,전자</td>\n",
       "      <td>코스피 화학</td>\n",
       "      <td>코스피 화학</td>\n",
       "      <td>코스피 기계</td>\n",
       "      <td>코스닥 제조</td>\n",
       "      <td>코스피 기계</td>\n",
       "      <td>코스피 화학</td>\n",
       "      <td>NaN</td>\n",
       "      <td>NaN</td>\n",
       "      <td>...</td>\n",
       "      <td>코스닥 IT H/W</td>\n",
       "      <td>NaN</td>\n",
       "      <td>NaN</td>\n",
       "      <td>NaN</td>\n",
       "      <td>NaN</td>\n",
       "      <td>NaN</td>\n",
       "      <td>NaN</td>\n",
       "      <td>NaN</td>\n",
       "      <td>NaN</td>\n",
       "      <td>코스피 은행</td>\n",
       "    </tr>\n",
       "    <tr>\n",
       "      <th>...</th>\n",
       "      <td>...</td>\n",
       "      <td>...</td>\n",
       "      <td>...</td>\n",
       "      <td>...</td>\n",
       "      <td>...</td>\n",
       "      <td>...</td>\n",
       "      <td>...</td>\n",
       "      <td>...</td>\n",
       "      <td>...</td>\n",
       "      <td>...</td>\n",
       "      <td>...</td>\n",
       "      <td>...</td>\n",
       "      <td>...</td>\n",
       "      <td>...</td>\n",
       "      <td>...</td>\n",
       "      <td>...</td>\n",
       "      <td>...</td>\n",
       "      <td>...</td>\n",
       "      <td>...</td>\n",
       "      <td>...</td>\n",
       "      <td>...</td>\n",
       "    </tr>\n",
       "    <tr>\n",
       "      <th>180</th>\n",
       "      <td>2021-01-31</td>\n",
       "      <td>코스피 금융업</td>\n",
       "      <td>코스피 화학</td>\n",
       "      <td>코스피 화학</td>\n",
       "      <td>코스피 전기,전자</td>\n",
       "      <td>코스닥 제조</td>\n",
       "      <td>코스피 기계</td>\n",
       "      <td>코스피 화학</td>\n",
       "      <td>코스닥 IT H/W</td>\n",
       "      <td>코스닥 제조</td>\n",
       "      <td>...</td>\n",
       "      <td>코스닥 제조</td>\n",
       "      <td>코스닥 IT H/W</td>\n",
       "      <td>코스닥 IT H/W</td>\n",
       "      <td>NaN</td>\n",
       "      <td>코스닥 IT H/W</td>\n",
       "      <td>코스닥 IT H/W</td>\n",
       "      <td>코스닥 IT H/W</td>\n",
       "      <td>코스닥 IT H/W</td>\n",
       "      <td>코스닥 IT H/W</td>\n",
       "      <td>NaN</td>\n",
       "    </tr>\n",
       "    <tr>\n",
       "      <th>181</th>\n",
       "      <td>2021-02-28</td>\n",
       "      <td>코스피 금융업</td>\n",
       "      <td>코스피 화학</td>\n",
       "      <td>코스피 화학</td>\n",
       "      <td>코스피 전기,전자</td>\n",
       "      <td>코스닥 제조</td>\n",
       "      <td>코스피 기계</td>\n",
       "      <td>코스피 화학</td>\n",
       "      <td>코스닥 IT H/W</td>\n",
       "      <td>코스닥 제조</td>\n",
       "      <td>...</td>\n",
       "      <td>코스닥 제조</td>\n",
       "      <td>코스닥 IT H/W</td>\n",
       "      <td>코스닥 IT H/W</td>\n",
       "      <td>NaN</td>\n",
       "      <td>코스닥 IT H/W</td>\n",
       "      <td>코스닥 IT H/W</td>\n",
       "      <td>코스닥 IT H/W</td>\n",
       "      <td>코스닥 IT H/W</td>\n",
       "      <td>코스닥 IT H/W</td>\n",
       "      <td>NaN</td>\n",
       "    </tr>\n",
       "    <tr>\n",
       "      <th>182</th>\n",
       "      <td>2021-03-31</td>\n",
       "      <td>코스피 금융업</td>\n",
       "      <td>코스피 화학</td>\n",
       "      <td>코스피 화학</td>\n",
       "      <td>코스피 전기,전자</td>\n",
       "      <td>코스닥 제조</td>\n",
       "      <td>코스피 기계</td>\n",
       "      <td>코스피 화학</td>\n",
       "      <td>코스닥 IT H/W</td>\n",
       "      <td>코스닥 제조</td>\n",
       "      <td>...</td>\n",
       "      <td>코스닥 제조</td>\n",
       "      <td>코스닥 IT H/W</td>\n",
       "      <td>코스닥 IT H/W</td>\n",
       "      <td>NaN</td>\n",
       "      <td>코스닥 IT H/W</td>\n",
       "      <td>코스닥 IT H/W</td>\n",
       "      <td>코스닥 IT H/W</td>\n",
       "      <td>코스닥 IT H/W</td>\n",
       "      <td>코스닥 IT H/W</td>\n",
       "      <td>NaN</td>\n",
       "    </tr>\n",
       "    <tr>\n",
       "      <th>183</th>\n",
       "      <td>2021-04-30</td>\n",
       "      <td>코스피 금융업</td>\n",
       "      <td>코스피 화학</td>\n",
       "      <td>코스피 화학</td>\n",
       "      <td>코스피 전기,전자</td>\n",
       "      <td>코스닥 제조</td>\n",
       "      <td>코스피 기계</td>\n",
       "      <td>코스피 화학</td>\n",
       "      <td>코스닥 IT H/W</td>\n",
       "      <td>코스닥 제조</td>\n",
       "      <td>...</td>\n",
       "      <td>코스닥 제조</td>\n",
       "      <td>코스닥 IT H/W</td>\n",
       "      <td>코스닥 IT H/W</td>\n",
       "      <td>NaN</td>\n",
       "      <td>코스닥 IT H/W</td>\n",
       "      <td>코스닥 IT H/W</td>\n",
       "      <td>코스닥 IT H/W</td>\n",
       "      <td>코스닥 IT H/W</td>\n",
       "      <td>코스닥 IT H/W</td>\n",
       "      <td>NaN</td>\n",
       "    </tr>\n",
       "    <tr>\n",
       "      <th>184</th>\n",
       "      <td>2021-05-31</td>\n",
       "      <td>코스피 금융업</td>\n",
       "      <td>코스피 화학</td>\n",
       "      <td>코스피 화학</td>\n",
       "      <td>코스피 전기,전자</td>\n",
       "      <td>코스닥 제조</td>\n",
       "      <td>코스피 기계</td>\n",
       "      <td>코스피 화학</td>\n",
       "      <td>코스닥 IT H/W</td>\n",
       "      <td>코스닥 제조</td>\n",
       "      <td>...</td>\n",
       "      <td>코스닥 제조</td>\n",
       "      <td>코스닥 IT H/W</td>\n",
       "      <td>코스닥 IT H/W</td>\n",
       "      <td>NaN</td>\n",
       "      <td>코스닥 IT H/W</td>\n",
       "      <td>코스닥 IT H/W</td>\n",
       "      <td>코스닥 IT H/W</td>\n",
       "      <td>코스닥 IT H/W</td>\n",
       "      <td>코스닥 IT H/W</td>\n",
       "      <td>NaN</td>\n",
       "    </tr>\n",
       "  </tbody>\n",
       "</table>\n",
       "<p>185 rows × 1326 columns</p>\n",
       "</div>"
      ],
      "text/plain": [
       "     Unnamed: 0    A006260 A009830 A010060    A011930 A018000 A034020 A081000  \\\n",
       "0    2006-01-31  코스피 전기,전자  코스피 화학  코스피 화학     코스피 기계  코스닥 제조  코스피 기계  코스피 화학   \n",
       "1    2006-02-28  코스피 전기,전자  코스피 화학  코스피 화학     코스피 기계  코스닥 제조  코스피 기계  코스피 화학   \n",
       "2    2006-03-31  코스피 전기,전자  코스피 화학  코스피 화학     코스피 기계  코스닥 제조  코스피 기계  코스피 화학   \n",
       "3    2006-04-30  코스피 전기,전자  코스피 화학  코스피 화학     코스피 기계  코스닥 제조  코스피 기계  코스피 화학   \n",
       "4    2006-05-31  코스피 전기,전자  코스피 화학  코스피 화학     코스피 기계  코스닥 제조  코스피 기계  코스피 화학   \n",
       "..          ...        ...     ...     ...        ...     ...     ...     ...   \n",
       "180  2021-01-31    코스피 금융업  코스피 화학  코스피 화학  코스피 전기,전자  코스닥 제조  코스피 기계  코스피 화학   \n",
       "181  2021-02-28    코스피 금융업  코스피 화학  코스피 화학  코스피 전기,전자  코스닥 제조  코스피 기계  코스피 화학   \n",
       "182  2021-03-31    코스피 금융업  코스피 화학  코스피 화학  코스피 전기,전자  코스닥 제조  코스피 기계  코스피 화학   \n",
       "183  2021-04-30    코스피 금융업  코스피 화학  코스피 화학  코스피 전기,전자  코스닥 제조  코스피 기계  코스피 화학   \n",
       "184  2021-05-31    코스피 금융업  코스피 화학  코스피 화학  코스피 전기,전자  코스닥 제조  코스피 기계  코스피 화학   \n",
       "\n",
       "        A086390 A100090  ...     A077360     A096640     A033170 A123260  \\\n",
       "0           NaN     NaN  ...  코스닥 IT H/W         NaN         NaN     NaN   \n",
       "1           NaN     NaN  ...  코스닥 IT H/W         NaN         NaN     NaN   \n",
       "2           NaN     NaN  ...  코스닥 IT H/W         NaN         NaN     NaN   \n",
       "3           NaN     NaN  ...  코스닥 IT H/W         NaN         NaN     NaN   \n",
       "4           NaN     NaN  ...  코스닥 IT H/W         NaN         NaN     NaN   \n",
       "..          ...     ...  ...         ...         ...         ...     ...   \n",
       "180  코스닥 IT H/W  코스닥 제조  ...      코스닥 제조  코스닥 IT H/W  코스닥 IT H/W     NaN   \n",
       "181  코스닥 IT H/W  코스닥 제조  ...      코스닥 제조  코스닥 IT H/W  코스닥 IT H/W     NaN   \n",
       "182  코스닥 IT H/W  코스닥 제조  ...      코스닥 제조  코스닥 IT H/W  코스닥 IT H/W     NaN   \n",
       "183  코스닥 IT H/W  코스닥 제조  ...      코스닥 제조  코스닥 IT H/W  코스닥 IT H/W     NaN   \n",
       "184  코스닥 IT H/W  코스닥 제조  ...      코스닥 제조  코스닥 IT H/W  코스닥 IT H/W     NaN   \n",
       "\n",
       "        A114810     A141000     A241770     A255440     A123860 A006350  \n",
       "0           NaN         NaN         NaN         NaN         NaN  코스피 은행  \n",
       "1           NaN         NaN         NaN         NaN         NaN  코스피 은행  \n",
       "2           NaN         NaN         NaN         NaN         NaN  코스피 은행  \n",
       "3           NaN         NaN         NaN         NaN         NaN  코스피 은행  \n",
       "4           NaN         NaN         NaN         NaN         NaN  코스피 은행  \n",
       "..          ...         ...         ...         ...         ...     ...  \n",
       "180  코스닥 IT H/W  코스닥 IT H/W  코스닥 IT H/W  코스닥 IT H/W  코스닥 IT H/W     NaN  \n",
       "181  코스닥 IT H/W  코스닥 IT H/W  코스닥 IT H/W  코스닥 IT H/W  코스닥 IT H/W     NaN  \n",
       "182  코스닥 IT H/W  코스닥 IT H/W  코스닥 IT H/W  코스닥 IT H/W  코스닥 IT H/W     NaN  \n",
       "183  코스닥 IT H/W  코스닥 IT H/W  코스닥 IT H/W  코스닥 IT H/W  코스닥 IT H/W     NaN  \n",
       "184  코스닥 IT H/W  코스닥 IT H/W  코스닥 IT H/W  코스닥 IT H/W  코스닥 IT H/W     NaN  \n",
       "\n",
       "[185 rows x 1326 columns]"
      ]
     },
     "execution_count": 140,
     "metadata": {},
     "output_type": "execute_result"
    }
   ],
   "source": [
    "stock_sector = stock_sector.rename{}"
   ]
  }
 ],
 "metadata": {
  "kernelspec": {
   "display_name": "Python 3",
   "language": "python",
   "name": "python3"
  },
  "language_info": {
   "codemirror_mode": {
    "name": "ipython",
    "version": 3
   },
   "file_extension": ".py",
   "mimetype": "text/x-python",
   "name": "python",
   "nbconvert_exporter": "python",
   "pygments_lexer": "ipython3",
   "version": "3.7.4"
  }
 },
 "nbformat": 4,
 "nbformat_minor": 5
}
